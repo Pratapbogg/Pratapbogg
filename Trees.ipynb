{
  "nbformat": 4,
  "nbformat_minor": 0,
  "metadata": {
    "colab": {
      "provenance": [],
      "collapsed_sections": [],
      "toc_visible": true
    },
    "kernelspec": {
      "name": "python3",
      "display_name": "Python 3"
    },
    "language_info": {
      "name": "python"
    }
  },
  "cells": [
    {
      "cell_type": "code",
      "execution_count": null,
      "metadata": {
        "id": "zLGMb0ELG3kG"
      },
      "outputs": [],
      "source": [
        "class Node:\n",
        "  def __init__(self,data):\n",
        "    self.data = data\n",
        "    self.left = None\n",
        "    self.right = None\n",
        "\n",
        "  def search(self,target):\n",
        "\n",
        "    if self.data == target:\n",
        "      print(\"Found It\")\n",
        "      return self\n",
        "    \n",
        "    if self.left and self.data > target:\n",
        "      return self.left.search(target)\n",
        "    if self.right and self.data < target:\n",
        "      return self.right.search(target)\n",
        "\n",
        "    print(\"Value is not visible\")\n",
        "\n",
        "class Tree:\n",
        "  def __init__(self,root, name = ''):\n",
        "    self.root = root\n",
        "    self.name = name\n",
        "\n",
        "  def search(self,target):\n",
        "    return self.root.search(target)\n",
        "\n",
        "\n",
        "node = Node(10)\n",
        "\n",
        "node.left = Node(5)\n",
        "node.right = Node(14)\n",
        "\n",
        "node.left.left = Node(2)\n",
        "node.left.right = Node(6)\n",
        "\n",
        "node.right.left = Node(13)\n",
        "node.right.right = Node(10000)\n",
        "\n",
        "myTree = Tree(node,'My Tree')\n",
        "\n",
        "found = myTree.search(13)\n",
        "if found == None:\n",
        "  print(\"Not Found\")\n",
        "else:\n",
        "  print(found.data)"
      ]
    }
  ]
}