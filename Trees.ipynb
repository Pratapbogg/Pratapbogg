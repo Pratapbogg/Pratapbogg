{
  "nbformat": 4,
  "nbformat_minor": 0,
  "metadata": {
    "colab": {
      "provenance": [],
      "collapsed_sections": [],
      "toc_visible": true
    },
    "kernelspec": {
      "name": "python3",
      "display_name": "Python 3"
    },
    "language_info": {
      "name": "python"
    }
  },
  "cells": [
    {
      "cell_type": "code",
      "execution_count": 10,
      "metadata": {
        "colab": {
          "base_uri": "https://localhost:8080/"
        },
        "id": "zLGMb0ELG3kG",
        "outputId": "3d1f0516-8490-4ce1-c91c-ec8817ee9062"
      },
      "outputs": [
        {
          "output_type": "stream",
          "name": "stdout",
          "text": [
            "10\n"
          ]
        }
      ],
      "source": [
        "class Node:\n",
        "  def __init__(self,data):\n",
        "    self.data = data\n",
        "    self.left = None\n",
        "    self.right = None\n",
        "\n",
        "\n",
        "node = Node(10)\n",
        "\n",
        "node.left = Node(5)\n",
        "node.right = Node(10)\n",
        "\n",
        "node.left.left = Node(2)\n",
        "node.left.right = Node(6)\n",
        "\n",
        "node.right.left = Node(13)\n",
        "node.right.right = Node(10000)\n",
        "\n",
        "print(node.data)"
      ]
    }
  ]
}